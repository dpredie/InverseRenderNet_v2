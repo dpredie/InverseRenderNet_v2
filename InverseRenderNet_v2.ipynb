{
  "nbformat": 4,
  "nbformat_minor": 0,
  "metadata": {
    "colab": {
      "provenance": [],
      "gpuType": "T4",
      "authorship_tag": "ABX9TyMMWLnAcPuoZjO1dp2RqaIY",
      "include_colab_link": true
    },
    "kernelspec": {
      "name": "python3",
      "display_name": "Python 3"
    },
    "language_info": {
      "name": "python"
    },
    "accelerator": "GPU"
  },
  "cells": [
    {
      "cell_type": "markdown",
      "metadata": {
        "id": "view-in-github",
        "colab_type": "text"
      },
      "source": [
        "<a href=\"https://colab.research.google.com/github/dpredie/InverseRenderNet_v2/blob/main/InverseRenderNet_v2.ipynb\" target=\"_parent\"><img src=\"https://colab.research.google.com/assets/colab-badge.svg\" alt=\"Open In Colab\"/></a>"
      ]
    },
    {
      "cell_type": "code",
      "execution_count": 1,
      "metadata": {
        "colab": {
          "base_uri": "https://localhost:8080/"
        },
        "id": "z1vZJsi9JDea",
        "outputId": "1ac30233-2fd5-434d-e55e-19ed04e47c7c"
      },
      "outputs": [
        {
          "output_type": "stream",
          "name": "stdout",
          "text": [
            "Cloning into 'InverseRenderNet_v2'...\n",
            "remote: Enumerating objects: 53, done.\u001b[K\n",
            "remote: Counting objects: 100% (53/53), done.\u001b[K\n",
            "remote: Compressing objects: 100% (41/41), done.\u001b[K\n",
            "remote: Total 53 (delta 16), reused 45 (delta 10), pack-reused 0\u001b[K\n",
            "Unpacking objects: 100% (53/53), 5.40 MiB | 11.81 MiB/s, done.\n",
            "Downloading...\n",
            "From: https://drive.google.com/u/0/uc?id=1hGIoK3Pemtg3eYjFy_CBK-R37D3gA0VC\n",
            "To: /content/model_ckpts.tar\n",
            "100% 1.21G/1.21G [00:14<00:00, 81.2MB/s]\n"
          ]
        }
      ],
      "source": [
        "# Clone git repo\n",
        "!git clone https://github.com/YeeU/InverseRenderNet_v2.git\n",
        "\n",
        "\n",
        "!gdown https://drive.google.com/u/0/uc?id=1hGIoK3Pemtg3eYjFy_CBK-R37D3gA0VC&export=download\n",
        "\n"
      ]
    },
    {
      "cell_type": "code",
      "source": [
        "!tar -xvf \"model_ckpts.tar\""
      ],
      "metadata": {
        "colab": {
          "base_uri": "https://localhost:8080/"
        },
        "id": "vAzkqZxHLfkR",
        "outputId": "5b480c5e-a0f1-42e4-b91b-f9e8f8418c42"
      },
      "execution_count": 2,
      "outputs": [
        {
          "output_type": "stream",
          "name": "stdout",
          "text": [
            "model_ckpts/\n",
            "model_ckpts/model_ckpt/\n",
            "model_ckpts/model_ckpt/model.ckpt.meta\n",
            "model_ckpts/model_ckpt/model.ckpt.data-00000-of-00001\n",
            "model_ckpts/model_ckpt/checkpoint\n",
            "model_ckpts/model_ckpt/model.ckpt.index\n",
            "model_ckpts/iiw_model_ckpt/\n",
            "model_ckpts/iiw_model_ckpt/model.ckpt.meta\n",
            "model_ckpts/iiw_model_ckpt/model.ckpt.data-00000-of-00001\n",
            "model_ckpts/iiw_model_ckpt/checkpoint\n",
            "model_ckpts/iiw_model_ckpt/model.ckpt.index\n",
            "model_ckpts/diode_model_ckpt/\n",
            "model_ckpts/diode_model_ckpt/model.ckpt.meta\n",
            "model_ckpts/diode_model_ckpt/model.ckpt.data-00000-of-00001\n",
            "model_ckpts/diode_model_ckpt/checkpoint\n",
            "model_ckpts/diode_model_ckpt/model.ckpt.index\n"
          ]
        }
      ]
    },
    {
      "cell_type": "code",
      "source": [
        "!mv /content/model_ckpts/model_ckpt/ /content/InverseRenderNet_v2/\n",
        "!mv /content/model_ckpts/diode_model_ckpt/ /content/InverseRenderNet_v2/\n",
        "!mv /content/model_ckpts/iiw_model_ckpt/ /content/InverseRenderNet_v2/"
      ],
      "metadata": {
        "id": "uMl3uMZnMCC2"
      },
      "execution_count": 3,
      "outputs": []
    },
    {
      "cell_type": "code",
      "source": [
        "%cd /\n",
        "!pip3 install scikit-image\n",
        "!pip3 install opencv-python\n",
        "!pip3 install ipdb"
      ],
      "metadata": {
        "colab": {
          "base_uri": "https://localhost:8080/"
        },
        "id": "GLSaF4PEPeym",
        "outputId": "20469a87-2c42-4030-dd31-764449491b7e"
      },
      "execution_count": 15,
      "outputs": [
        {
          "output_type": "stream",
          "name": "stdout",
          "text": [
            "/\n",
            "Looking in indexes: https://pypi.org/simple, https://us-python.pkg.dev/colab-wheels/public/simple/\n",
            "Requirement already satisfied: scikit-image in /usr/local/lib/python3.10/dist-packages (0.19.3)\n",
            "Requirement already satisfied: numpy>=1.17.0 in /usr/local/lib/python3.10/dist-packages (from scikit-image) (1.22.4)\n",
            "Requirement already satisfied: scipy>=1.4.1 in /usr/local/lib/python3.10/dist-packages (from scikit-image) (1.10.1)\n",
            "Requirement already satisfied: networkx>=2.2 in /usr/local/lib/python3.10/dist-packages (from scikit-image) (3.1)\n",
            "Requirement already satisfied: pillow!=7.1.0,!=7.1.1,!=8.3.0,>=6.1.0 in /usr/local/lib/python3.10/dist-packages (from scikit-image) (8.4.0)\n",
            "Requirement already satisfied: imageio>=2.4.1 in /usr/local/lib/python3.10/dist-packages (from scikit-image) (2.25.1)\n",
            "Requirement already satisfied: tifffile>=2019.7.26 in /usr/local/lib/python3.10/dist-packages (from scikit-image) (2023.4.12)\n",
            "Requirement already satisfied: PyWavelets>=1.1.1 in /usr/local/lib/python3.10/dist-packages (from scikit-image) (1.4.1)\n",
            "Requirement already satisfied: packaging>=20.0 in /usr/local/lib/python3.10/dist-packages (from scikit-image) (23.1)\n",
            "Looking in indexes: https://pypi.org/simple, https://us-python.pkg.dev/colab-wheels/public/simple/\n",
            "Requirement already satisfied: opencv-python in /usr/local/lib/python3.10/dist-packages (4.7.0.72)\n",
            "Requirement already satisfied: numpy>=1.21.2 in /usr/local/lib/python3.10/dist-packages (from opencv-python) (1.22.4)\n",
            "Looking in indexes: https://pypi.org/simple, https://us-python.pkg.dev/colab-wheels/public/simple/\n",
            "Collecting ipdb\n",
            "  Downloading ipdb-0.13.13-py3-none-any.whl (12 kB)\n",
            "Requirement already satisfied: ipython>=7.31.1 in /usr/local/lib/python3.10/dist-packages (from ipdb) (7.34.0)\n",
            "Requirement already satisfied: tomli in /usr/local/lib/python3.10/dist-packages (from ipdb) (2.0.1)\n",
            "Requirement already satisfied: decorator in /usr/local/lib/python3.10/dist-packages (from ipdb) (4.4.2)\n",
            "Requirement already satisfied: setuptools>=18.5 in /usr/local/lib/python3.10/dist-packages (from ipython>=7.31.1->ipdb) (67.7.2)\n",
            "Collecting jedi>=0.16 (from ipython>=7.31.1->ipdb)\n",
            "  Downloading jedi-0.18.2-py2.py3-none-any.whl (1.6 MB)\n",
            "\u001b[2K     \u001b[90m━━━━━━━━━━━━━━━━━━━━━━━━━━━━━━━━━━━━━━━━\u001b[0m \u001b[32m1.6/1.6 MB\u001b[0m \u001b[31m40.3 MB/s\u001b[0m eta \u001b[36m0:00:00\u001b[0m\n",
            "\u001b[?25hRequirement already satisfied: pickleshare in /usr/local/lib/python3.10/dist-packages (from ipython>=7.31.1->ipdb) (0.7.5)\n",
            "Requirement already satisfied: traitlets>=4.2 in /usr/local/lib/python3.10/dist-packages (from ipython>=7.31.1->ipdb) (5.7.1)\n",
            "Requirement already satisfied: prompt-toolkit!=3.0.0,!=3.0.1,<3.1.0,>=2.0.0 in /usr/local/lib/python3.10/dist-packages (from ipython>=7.31.1->ipdb) (3.0.38)\n",
            "Requirement already satisfied: pygments in /usr/local/lib/python3.10/dist-packages (from ipython>=7.31.1->ipdb) (2.14.0)\n",
            "Requirement already satisfied: backcall in /usr/local/lib/python3.10/dist-packages (from ipython>=7.31.1->ipdb) (0.2.0)\n",
            "Requirement already satisfied: matplotlib-inline in /usr/local/lib/python3.10/dist-packages (from ipython>=7.31.1->ipdb) (0.1.6)\n",
            "Requirement already satisfied: pexpect>4.3 in /usr/local/lib/python3.10/dist-packages (from ipython>=7.31.1->ipdb) (4.8.0)\n",
            "Requirement already satisfied: parso<0.9.0,>=0.8.0 in /usr/local/lib/python3.10/dist-packages (from jedi>=0.16->ipython>=7.31.1->ipdb) (0.8.3)\n",
            "Requirement already satisfied: ptyprocess>=0.5 in /usr/local/lib/python3.10/dist-packages (from pexpect>4.3->ipython>=7.31.1->ipdb) (0.7.0)\n",
            "Requirement already satisfied: wcwidth in /usr/local/lib/python3.10/dist-packages (from prompt-toolkit!=3.0.0,!=3.0.1,<3.1.0,>=2.0.0->ipython>=7.31.1->ipdb) (0.2.6)\n",
            "Installing collected packages: jedi, ipdb\n",
            "Successfully installed ipdb-0.13.13 jedi-0.18.2\n"
          ]
        }
      ]
    },
    {
      "cell_type": "code",
      "source": [
        "%cd /content/InverseRenderNet_v2/\n",
        "!bash run_test_demo.sh"
      ],
      "metadata": {
        "colab": {
          "base_uri": "https://localhost:8080/"
        },
        "id": "yO8SUEFWPPNE",
        "outputId": "089ee4e9-1601-4391-c400-beafc2d19c6f"
      },
      "execution_count": 14,
      "outputs": [
        {
          "output_type": "stream",
          "name": "stdout",
          "text": [
            "/content/InverseRenderNet_v2\n",
            "+ TESTING_MODE=demo_im\n",
            "+ MODEL_PATH=model_ckpt\n",
            "+ IMAGE_PATH=demo_im.jpg\n",
            "+ MASK_PATH=demo_mask.jpg\n",
            "+ RESULTS_DIR=test_demo\n",
            "+ python test.py --mode demo_im --model model_ckpt --image demo_im.jpg --mask demo_mask.jpg --output test_demo\n",
            "Traceback (most recent call last):\n",
            "  File \"/content/InverseRenderNet_v2/test.py\", line 1, in <module>\n",
            "    import ipdb\n",
            "ModuleNotFoundError: No module named 'ipdb'\n"
          ]
        }
      ]
    },
    {
      "cell_type": "code",
      "source": [],
      "metadata": {
        "id": "SQyYzzE3PPrI"
      },
      "execution_count": null,
      "outputs": []
    }
  ]
}