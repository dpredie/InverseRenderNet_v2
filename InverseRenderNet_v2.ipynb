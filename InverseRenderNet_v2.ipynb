{
  "nbformat": 4,
  "nbformat_minor": 0,
  "metadata": {
    "colab": {
      "provenance": [],
      "gpuType": "T4",
      "authorship_tag": "ABX9TyOtbksnDIsftFN1cwFgbZ/I",
      "include_colab_link": true
    },
    "kernelspec": {
      "name": "python3",
      "display_name": "Python 3"
    },
    "language_info": {
      "name": "python"
    },
    "accelerator": "GPU"
  },
  "cells": [
    {
      "cell_type": "markdown",
      "metadata": {
        "id": "view-in-github",
        "colab_type": "text"
      },
      "source": [
        "<a href=\"https://colab.research.google.com/github/dpredie/InverseRenderNet_v2/blob/main/InverseRenderNet_v2.ipynb\" target=\"_parent\"><img src=\"https://colab.research.google.com/assets/colab-badge.svg\" alt=\"Open In Colab\"/></a>"
      ]
    },
    {
      "cell_type": "code",
      "execution_count": null,
      "metadata": {
        "id": "z1vZJsi9JDea"
      },
      "outputs": [],
      "source": [
        "# Clone git repo\n",
        "!git clone https://github.com/dpredie/InverseRenderNet_v2.git\n",
        "\n",
        "\n",
        "!gdown https://drive.google.com/u/0/uc?id=1hGIoK3Pemtg3eYjFy_CBK-R37D3gA0VC&export=download\n",
        "\n"
      ]
    },
    {
      "cell_type": "code",
      "source": [
        "!tar -xvf \"model_ckpts.tar\""
      ],
      "metadata": {
        "id": "vAzkqZxHLfkR"
      },
      "execution_count": null,
      "outputs": []
    },
    {
      "cell_type": "code",
      "source": [
        "!mv /content/model_ckpts/model_ckpt/ /content/InverseRenderNet_v2/\n",
        "!mv /content/model_ckpts/diode_model_ckpt/ /content/InverseRenderNet_v2/\n",
        "!mv /content/model_ckpts/iiw_model_ckpt/ /content/InverseRenderNet_v2/"
      ],
      "metadata": {
        "id": "uMl3uMZnMCC2"
      },
      "execution_count": 3,
      "outputs": []
    },
    {
      "cell_type": "code",
      "source": [
        "%cd /\n",
        "!pip3 install scikit-image\n",
        "!pip3 install opencv-python\n",
        "!pip3 install ipdb"
      ],
      "metadata": {
        "id": "GLSaF4PEPeym"
      },
      "execution_count": null,
      "outputs": []
    },
    {
      "cell_type": "code",
      "source": [
        "%cd /\n",
        "!pip3 install tensorflow-addons"
      ],
      "metadata": {
        "id": "13rI-RyGCfZZ"
      },
      "execution_count": null,
      "outputs": []
    },
    {
      "cell_type": "code",
      "source": [
        "%cd /content\n",
        "!mkdir input\n",
        "!mkdir output"
      ],
      "metadata": {
        "colab": {
          "base_uri": "https://localhost:8080/"
        },
        "id": "mJOqcieOBto4",
        "outputId": "8ac30515-0820-46be-eb72-85a5993eac1b"
      },
      "execution_count": 6,
      "outputs": [
        {
          "output_type": "stream",
          "name": "stdout",
          "text": [
            "/content\n"
          ]
        }
      ]
    },
    {
      "cell_type": "code",
      "source": [
        "%cd /content/InverseRenderNet_v2/\n",
        "!bash run_test_demo.sh --image /content/input/sample.jpg --mask /content/input/sample_mask.png --output /content/output"
      ],
      "metadata": {
        "id": "yO8SUEFWPPNE"
      },
      "execution_count": null,
      "outputs": []
    },
    {
      "cell_type": "code",
      "source": [],
      "metadata": {
        "id": "SQyYzzE3PPrI"
      },
      "execution_count": null,
      "outputs": []
    }
  ]
}