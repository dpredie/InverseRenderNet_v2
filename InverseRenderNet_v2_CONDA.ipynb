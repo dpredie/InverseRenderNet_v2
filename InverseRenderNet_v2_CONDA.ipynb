{
  "nbformat": 4,
  "nbformat_minor": 0,
  "metadata": {
    "colab": {
      "provenance": [],
      "gpuType": "T4",
      "authorship_tag": "ABX9TyOa4R+g0zvScAyolLEHOi4s",
      "include_colab_link": true
    },
    "kernelspec": {
      "name": "python3",
      "display_name": "Python 3"
    },
    "language_info": {
      "name": "python"
    },
    "accelerator": "GPU"
  },
  "cells": [
    {
      "cell_type": "markdown",
      "metadata": {
        "id": "view-in-github",
        "colab_type": "text"
      },
      "source": [
        "<a href=\"https://colab.research.google.com/github/dpredie/InverseRenderNet_v2/blob/main/InverseRenderNet_v2_CONDA.ipynb\" target=\"_parent\"><img src=\"https://colab.research.google.com/assets/colab-badge.svg\" alt=\"Open In Colab\"/></a>"
      ]
    },
    {
      "cell_type": "code",
      "source": [
        "%env PYTHONPATH = # /env/python\n",
        "!wget https://repo.anaconda.com/miniconda/Miniconda3-py38_4.12.0-Linux-x86_64.sh\n",
        "!chmod +x Miniconda3-py38_4.12.0-Linux-x86_64.sh\n",
        "!./Miniconda3-py38_4.12.0-Linux-x86_64.sh -b -f -p /usr/local\n",
        "!conda update conda\n",
        "\n"
      ],
      "metadata": {
        "id": "YSD6OPr90Y8m"
      },
      "execution_count": null,
      "outputs": []
    },
    {
      "cell_type": "code",
      "source": [
        "import sys\n",
        "sys.path.append('/usr/local/lib/python3.8/site-packages')"
      ],
      "metadata": {
        "id": "dgBH4WmC0hRG"
      },
      "execution_count": null,
      "outputs": []
    },
    {
      "cell_type": "code",
      "source": [
        "!conda create -n myenv python=3.6"
      ],
      "metadata": {
        "id": "QLH1AQ1o0fsB"
      },
      "execution_count": null,
      "outputs": []
    },
    {
      "cell_type": "code",
      "source": [
        "%%shell\n",
        "eval \"$(conda shell.bash hook)\"\n",
        "conda activate myenv\n",
        "pip install tensorflow==1.12\n",
        "pip install scikit-image\n",
        "pip install opencv-python\n",
        "pip install ipdb\n",
        "pip install numpy"
      ],
      "metadata": {
        "id": "nUxI5zs10jsZ"
      },
      "execution_count": null,
      "outputs": []
    },
    {
      "cell_type": "code",
      "execution_count": null,
      "metadata": {
        "id": "z1vZJsi9JDea"
      },
      "outputs": [],
      "source": [
        "# Clone git repo\n",
        "!git clone https://github.com/dpredie/InverseRenderNet_v2.git\n",
        "\n",
        "\n",
        "!gdown https://drive.google.com/u/0/uc?id=1hGIoK3Pemtg3eYjFy_CBK-R37D3gA0VC&export=download\n",
        "\n"
      ]
    },
    {
      "cell_type": "code",
      "source": [
        "!tar -xvf \"model_ckpts.tar\""
      ],
      "metadata": {
        "id": "vAzkqZxHLfkR"
      },
      "execution_count": null,
      "outputs": []
    },
    {
      "cell_type": "code",
      "source": [
        "!mv /content/model_ckpts/model_ckpt/ /content/InverseRenderNet_v2/\n",
        "!mv /content/model_ckpts/diode_model_ckpt/ /content/InverseRenderNet_v2/\n",
        "!mv /content/model_ckpts/iiw_model_ckpt/ /content/InverseRenderNet_v2/"
      ],
      "metadata": {
        "id": "uMl3uMZnMCC2"
      },
      "execution_count": null,
      "outputs": []
    },
    {
      "cell_type": "code",
      "source": [
        "%cd /content\n",
        "!mkdir input\n",
        "!mkdir output"
      ],
      "metadata": {
        "colab": {
          "base_uri": "https://localhost:8080/"
        },
        "id": "mJOqcieOBto4",
        "outputId": "28dfaa2c-b5bb-46ea-ed2e-94536090336e"
      },
      "execution_count": null,
      "outputs": [
        {
          "output_type": "stream",
          "name": "stdout",
          "text": [
            "/content\n"
          ]
        }
      ]
    },
    {
      "cell_type": "code",
      "source": [
        "%cd /content/InverseRenderNet_v2/\n",
        "\n",
        "%%shell\n",
        "eval \"$(conda shell.bash hook)\"\n",
        "conda activate myenv\n",
        "/content/InverseRenderNet_v2/run_test_demo.sh --image /content/input/sample.jpg --mask /content/input/sample_mask.png --output /content/output"
      ],
      "metadata": {
        "id": "yO8SUEFWPPNE"
      },
      "execution_count": null,
      "outputs": []
    },
    {
      "cell_type": "code",
      "source": [],
      "metadata": {
        "id": "SQyYzzE3PPrI"
      },
      "execution_count": null,
      "outputs": []
    }
  ]
}